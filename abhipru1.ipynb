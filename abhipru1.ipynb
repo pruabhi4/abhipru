{
  "nbformat": 4,
  "nbformat_minor": 0,
  "metadata": {
    "colab": {
      "name": "abhipru1.ipynb",
      "provenance": [],
      "authorship_tag": "ABX9TyO8JTnHPVt01nhldb4oJ2Tl",
      "include_colab_link": true
    },
    "kernelspec": {
      "name": "python3",
      "display_name": "Python 3"
    },
    "language_info": {
      "name": "python"
    },
    "accelerator": "GPU"
  },
  "cells": [
    {
      "cell_type": "markdown",
      "metadata": {
        "id": "view-in-github",
        "colab_type": "text"
      },
      "source": [
        "<a href=\"https://colab.research.google.com/github/pruabhi4/abhipru/blob/main/abhipru1.ipynb\" target=\"_parent\"><img src=\"https://colab.research.google.com/assets/colab-badge.svg\" alt=\"Open In Colab\"/></a>"
      ]
    },
    {
      "cell_type": "code",
      "metadata": {
        "id": "o6DWc5zaLMhc"
      },
      "source": [
        "!nvidia-smi"
      ],
      "execution_count": null,
      "outputs": []
    },
    {
      "cell_type": "code",
      "metadata": {
        "id": "t4yNp3KmLtZ6",
        "cellView": "form"
      },
      "source": [
        "#@title **Create User**\n",
        "#@markdown Enter Username and Password\n",
        "\n",
        "username = \"abhi\" #@param {type:\"string\"}\n",
        "password = \"a\" #@param {type:\"string\"}\n",
        "\n",
        "print(\"Creating User and Setting it up\")\n",
        "\n",
        "# Creation of user\n",
        "! sudo useradd -m $username &> /dev/null\n",
        "\n",
        "# Add user to sudo group\n",
        "! sudo adduser $username sudo &> /dev/null\n",
        "    \n",
        "# Set password of user to 'root'\n",
        "! echo '$username:$password' | sudo chpasswd\n",
        "\n",
        "# Change default shell from sh to bash\n",
        "! sed -i 's/\\/bin\\/sh/\\/bin\\/bash/g' /etc/passwd\n",
        "\n",
        "print(\"User Created and Configured\")"
      ],
      "execution_count": null,
      "outputs": []
    },
    {
      "cell_type": "code",
      "metadata": {
        "id": "8icuQYnyKDLk",
        "cellView": "form"
      },
      "source": [
        "#@title **SSH**\n",
        "\n",
        "! pip install colab_ssh --upgrade &> /dev/null\n",
        "\n",
        "Ngrok = True #@param {type:'boolean'}\n",
        "Agro = False #@param {type:'boolean'}\n",
        "\n",
        "\n",
        "#@markdown Copy authtoken from https://dashboard.ngrok.com/auth (only for ngrok)\n",
        "ngrokToken = \"\" #@param {type:'string'}\n",
        "\n",
        "\n",
        "def runNGROK():\n",
        "    from colab_ssh import launch_ssh\n",
        "    from IPython.display import clear_output\n",
        "    launch_ssh(ngrokToken, password)\n",
        "    clear_output()\n",
        "\n",
        "    print(\"ssh\", username, end='@')\n",
        "    ! curl -s http://localhost:4040/api/tunnels | python3 -c \\\n",
        "            \"import sys, json; print(json.load(sys.stdin)['tunnels'][0]['public_url'][6:].replace(':', ' -p '))\"\n",
        "\n",
        "\n",
        "def runAgro():\n",
        "    from colab_ssh import launch_ssh_cloudflared\n",
        "    launch_ssh_cloudflared(password=password)\n",
        "\n",
        "\n",
        "try:\n",
        "    if username:\n",
        "        pass\n",
        "    elif password:\n",
        "        pass\n",
        "except NameError:\n",
        "    print(\"No user found using username and password as 'root'\")\n",
        "    username='root'\n",
        "    password='root'\n",
        "\n",
        "\n",
        "if Agro and Ngrok:\n",
        "    print(\"You can't do that\")\n",
        "    print(\"Select only one of them\")\n",
        "elif Agro:\n",
        "    runAgro()\n",
        "elif Ngrok:\n",
        "    if ngrokToken == \"\":\n",
        "        print(\"No ngrokToken Found, Please enter it\")\n",
        "    else:\n",
        "        runNGROK()\n",
        "else:\n",
        "    print(\"Select one of them\")"
      ],
      "execution_count": null,
      "outputs": []
    },
    {
      "cell_type": "code",
      "metadata": {
        "id": "vf9G-dJDL-kC"
      },
      "source": [
        "! sleep 9999999"
      ],
      "execution_count": null,
      "outputs": []
    }
  ]
}