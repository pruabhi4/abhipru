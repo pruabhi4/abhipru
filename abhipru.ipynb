{
  "nbformat": 4,
  "nbformat_minor": 0,
  "metadata": {
    "colab": {
      "name": "abhipru.ipynb",
      "provenance": [],
      "collapsed_sections": [],
      "include_colab_link": true
    },
    "kernelspec": {
      "name": "python3",
      "display_name": "Python 3"
    },
    "language_info": {
      "name": "python"
    },
    "accelerator": "GPU"
  },
  "cells": [
    {
      "cell_type": "markdown",
      "metadata": {
        "id": "view-in-github",
        "colab_type": "text"
      },
      "source": [
        "<a href=\"https://colab.research.google.com/github/pruabhi4/abhipru/blob/main/abhipru.ipynb\" target=\"_parent\"><img src=\"https://colab.research.google.com/assets/colab-badge.svg\" alt=\"Open In Colab\"/></a>"
      ]
    },
    {
      "cell_type": "code",
      "metadata": {
        "id": "ACY6dvYhrbAl"
      },
      "source": [
        "!nvidia-smi"
      ],
      "execution_count": null,
      "outputs": []
    },
    {
      "cell_type": "code",
      "metadata": {
        "id": "t4yNp3KmLtZ6",
        "cellView": "form"
      },
      "source": [
        "#@title **Create User**\n",
        "#@markdown Enter Username and Password\n",
        "\n",
        "username = \"abhi\" #@param {type:\"string\"}\n",
        "password = \"a\" #@param {type:\"string\"}\n",
        "\n",
        "print(\"Creating User and Setting it up\")\n",
        "\n",
        "# Creation of user\n",
        "! sudo useradd -m $username &> /dev/null\n",
        "\n",
        "# Add user to sudo group\n",
        "! sudo adduser $username sudo &> /dev/null\n",
        "    \n",
        "# Set password of user to 'root'\n",
        "! echo '$username:$password' | sudo chpasswd\n",
        "\n",
        "# Change default shell from sh to bash\n",
        "! sed -i 's/\\/bin\\/sh/\\/bin\\/bash/g' /etc/passwd\n",
        "\n",
        "print(\"User Created and Configured\")"
      ],
      "execution_count": null,
      "outputs": []
    },
    {
      "cell_type": "code",
      "metadata": {
        "id": "8icuQYnyKDLk",
        "cellView": "form"
      },
      "source": [
        "#@title **SSH**\n",
        "\n",
        "! pip install colab_ssh --upgrade &> /dev/null\n",
        "\n",
        "Ngrok = False #@param {type:'boolean'}\n",
        "Agro = False #@param {type:'boolean'}\n",
        "\n",
        "\n",
        "#@markdown Copy authtoken from https://dashboard.ngrok.com/auth (only for ngrok)\n",
        "ngrokToken = \"\" #@param {type:'string'}\n",
        "\n",
        "\n",
        "def runNGROK():\n",
        "    from colab_ssh import launch_ssh\n",
        "    from IPython.display import clear_output\n",
        "    launch_ssh(ngrokToken, password)\n",
        "    clear_output()\n",
        "\n",
        "    print(\"ssh\", username, end='@')\n",
        "    ! curl -s http://localhost:4040/api/tunnels | python3 -c \\\n",
        "            \"import sys, json; print(json.load(sys.stdin)['tunnels'][0]['public_url'][6:].replace(':', ' -p '))\"\n",
        "\n",
        "\n",
        "def runAgro():\n",
        "    from colab_ssh import launch_ssh_cloudflared\n",
        "    launch_ssh_cloudflared(password=password)\n",
        "\n",
        "\n",
        "try:\n",
        "    if username:\n",
        "        pass\n",
        "    elif password:\n",
        "        pass\n",
        "except NameError:\n",
        "    print(\"No user found using username and password as 'root'\")\n",
        "    username='root'\n",
        "    password='root'\n",
        "\n",
        "\n",
        "if Agro and Ngrok:\n",
        "    print(\"You can't do that\")\n",
        "    print(\"Select only one of them\")\n",
        "elif Agro:\n",
        "    runAgro()\n",
        "elif Ngrok:\n",
        "    if ngrokToken == \"\":\n",
        "        print(\"No ngrokToken Found, Please enter it\")\n",
        "    else:\n",
        "        runNGROK()\n",
        "else:\n",
        "    print(\"Select one of them\")"
      ],
      "execution_count": null,
      "outputs": []
    },
    {
      "cell_type": "code",
      "metadata": {
        "id": "Q6bl1b0EifVG",
        "cellView": "form"
      },
      "source": [
        "#@title **RDP**\n",
        "#@markdown  It takes 4-5 minutes for installation\n",
        "\n",
        "#@markdown  Visit http://remotedesktop.google.com/headless and Copy the command after authentication\n",
        "\n",
        "CRP = \"\" #@param {type:\"string\"}\n",
        "\n",
        "def CRD():\n",
        "    with open('install.sh', 'w') as script:\n",
        "        script.write(\"\"\"#! /bin/bash\n",
        "\n",
        "b='\\033[1m'\n",
        "r='\\E[31m'\n",
        "g='\\E[32m'\n",
        "c='\\E[36m'\n",
        "endc='\\E[0m'\n",
        "enda='\\033[0m'\n",
        "\n",
        "printf \"\\n\\n$c$b    Loading Installer $endc$enda\" >&2\n",
        "if sudo apt-get update &> /dev/null\n",
        "then\n",
        "    printf \"\\r$g$b    Installer Loaded $endc$enda\\n\" >&2\n",
        "else\n",
        "    printf \"\\r$r$b    Error Occured $endc$enda\\n\" >&2\n",
        "    exit\n",
        "fi\n",
        "\n",
        "printf \"\\n$g$b    Installing Chrome Remote Desktop $endc$enda\" >&2\n",
        "{\n",
        "    wget https://dl.google.com/linux/direct/chrome-remote-desktop_current_amd64.deb\n",
        "    sudo dpkg --install chrome-remote-desktop_current_amd64.deb\n",
        "    sudo apt install --assume-yes --fix-broken\n",
        "} &> /dev/null &&\n",
        "printf \"\\r$c$b    Chrome Remote Desktop Installed $endc$enda\\n\" >&2 ||\n",
        "{ printf \"\\r$r$b    Error Occured $endc$enda\\n\" >&2; exit; }\n",
        "sleep 3\n",
        "\n",
        "printf \"$g$b    Installing Desktop Environment $endc$enda\" >&2\n",
        "{\n",
        "    sudo DEBIAN_FRONTEND=noninteractive \\\n",
        "        apt install --assume-yes xfce4 desktop-base\n",
        "    sudo bash -c 'echo \"exec /etc/X11/Xsession /usr/bin/xfce4-session\" > /etc/chrome-remote-desktop-session'  \n",
        "    sudo apt install --assume-yes xscreensaver\n",
        "    sudo systemctl disable lightdm.service\n",
        "} &> /dev/null &&\n",
        "printf \"\\r$c$b    Desktop Environment Installed $endc$enda\\n\" >&2 ||\n",
        "{ printf \"\\r$r$b    Error Occured $endc$enda\\n\" >&2; exit; }\n",
        "sleep 3\n",
        "\n",
        "printf \"$g$b    Installing Google Chrome $endc$enda\" >&2\n",
        "{\n",
        "    wget https://dl.google.com/linux/direct/google-chrome-stable_current_amd64.deb\n",
        "    sudo dpkg --install google-chrome-stable_current_amd64.deb\n",
        "    sudo apt install --assume-yes --fix-broken\n",
        "} &> /dev/null &&\n",
        "printf \"\\r$c$b    Google Chrome Installed $endc$enda\\n\" >&2 ||\n",
        "printf \"\\r$r$b    Error Occured $endc$enda\\n\" >&2\n",
        "sleep 3\n",
        "\n",
        "printf \"$g$b    Installing other Tools $endc$enda\" >&2\n",
        "if sudo apt install nautilus nano -y &> /dev/null\n",
        "then\n",
        "    printf \"\\r$c$b    Other Tools Installed $endc$enda\\n\" >&2\n",
        "else\n",
        "    printf \"\\r$r$b    Error Occured $endc$enda\\n\" >&2\n",
        "fi\n",
        "sleep 3\n",
        "\n",
        "printf \"\\n$g$b    Installation Completed $endc$enda\\n\\n\" >&2\"\"\")\n",
        "\n",
        "    ! chmod +x install.sh\n",
        "    ! ./install.sh\n",
        "\n",
        "    # Adding user to CRP group\n",
        "    ! sudo adduser $username chrome-remote-desktop &> /dev/null\n",
        "\n",
        "    # Finishing Work\n",
        "    ! su - $username -c \"\"\"$CRP\"\"\"\n",
        "\n",
        "    print(\"Finished Succesfully\")\n",
        "\n",
        "try:\n",
        "    if username:\n",
        "        if CRP == \"\" :\n",
        "            print(\"Please enter authcode from the given link\")\n",
        "        else:\n",
        "            CRD()\n",
        "except NameError:\n",
        "    print(\"username variable not found\")\n",
        "    print(\"Create a User First\")"
      ],
      "execution_count": null,
      "outputs": []
    },
    {
      "cell_type": "code",
      "metadata": {
        "id": "hecTZWOzr-fT"
      },
      "source": [
        "! sleep 9999999"
      ],
      "execution_count": null,
      "outputs": []
    }
  ]
}